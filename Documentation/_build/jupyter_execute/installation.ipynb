{
 "cells": [
  {
   "cell_type": "markdown",
   "metadata": {},
   "source": [
    "# Installation"
   ]
  },
  {
   "cell_type": "markdown",
   "metadata": {},
   "source": [
    "*scia* can be installed using `pip` command directly\n",
    "\n",
    "to install package you can run following command directly"
   ]
  },
  {
   "cell_type": "code",
   "execution_count": 1,
   "metadata": {},
   "outputs": [
    {
     "name": "stdout",
     "output_type": "stream",
     "text": [
      "Defaulting to user installation because normal site-packages is not writeable\n",
      "Requirement already satisfied: scia in c:\\users\\khoda\\appdata\\roaming\\python\\python312\\site-packages (1.100.31)\n",
      "Requirement already satisfied: numpy in c:\\users\\khoda\\appdata\\roaming\\python\\python312\\site-packages (from scia) (2.2.3)\n",
      "Requirement already satisfied: pandas in c:\\users\\khoda\\appdata\\roaming\\python\\python312\\site-packages (from scia) (2.2.3)\n",
      "Requirement already satisfied: matplotlib in c:\\users\\khoda\\appdata\\roaming\\python\\python312\\site-packages (from scia) (3.10.1)\n",
      "Requirement already satisfied: scipy in c:\\users\\khoda\\appdata\\roaming\\python\\python312\\site-packages (from scia) (1.15.2)\n",
      "Requirement already satisfied: openpyxl in c:\\users\\khoda\\appdata\\roaming\\python\\python312\\site-packages (from scia) (3.1.5)\n",
      "Requirement already satisfied: scikit-learn in c:\\users\\khoda\\appdata\\roaming\\python\\python312\\site-packages (from scia) (1.6.1)\n",
      "Requirement already satisfied: statsmodels in c:\\users\\khoda\\appdata\\roaming\\python\\python312\\site-packages (from scia) (0.14.4)\n",
      "Requirement already satisfied: contourpy>=1.0.1 in c:\\users\\khoda\\appdata\\roaming\\python\\python312\\site-packages (from matplotlib->scia) (1.3.1)\n",
      "Requirement already satisfied: cycler>=0.10 in c:\\users\\khoda\\appdata\\roaming\\python\\python312\\site-packages (from matplotlib->scia) (0.12.1)\n",
      "Requirement already satisfied: fonttools>=4.22.0 in c:\\users\\khoda\\appdata\\roaming\\python\\python312\\site-packages (from matplotlib->scia) (4.56.0)\n",
      "Requirement already satisfied: kiwisolver>=1.3.1 in c:\\users\\khoda\\appdata\\roaming\\python\\python312\\site-packages (from matplotlib->scia) (1.4.8)\n",
      "Requirement already satisfied: packaging>=20.0 in c:\\users\\khoda\\appdata\\roaming\\python\\python312\\site-packages (from matplotlib->scia) (24.2)\n",
      "Requirement already satisfied: pillow>=8 in c:\\users\\khoda\\appdata\\roaming\\python\\python312\\site-packages (from matplotlib->scia) (11.1.0)\n",
      "Requirement already satisfied: pyparsing>=2.3.1 in c:\\users\\khoda\\appdata\\roaming\\python\\python312\\site-packages (from matplotlib->scia) (3.2.1)\n",
      "Requirement already satisfied: python-dateutil>=2.7 in c:\\users\\khoda\\appdata\\roaming\\python\\python312\\site-packages (from matplotlib->scia) (2.9.0.post0)\n",
      "Requirement already satisfied: et-xmlfile in c:\\users\\khoda\\appdata\\roaming\\python\\python312\\site-packages (from openpyxl->scia) (2.0.0)\n",
      "Requirement already satisfied: pytz>=2020.1 in c:\\users\\khoda\\appdata\\roaming\\python\\python312\\site-packages (from pandas->scia) (2025.1)\n",
      "Requirement already satisfied: tzdata>=2022.7 in c:\\users\\khoda\\appdata\\roaming\\python\\python312\\site-packages (from pandas->scia) (2025.1)\n",
      "Requirement already satisfied: joblib>=1.2.0 in c:\\users\\khoda\\appdata\\roaming\\python\\python312\\site-packages (from scikit-learn->scia) (1.4.2)\n",
      "Requirement already satisfied: threadpoolctl>=3.1.0 in c:\\users\\khoda\\appdata\\roaming\\python\\python312\\site-packages (from scikit-learn->scia) (3.5.0)\n",
      "Requirement already satisfied: patsy>=0.5.6 in c:\\users\\khoda\\appdata\\roaming\\python\\python312\\site-packages (from statsmodels->scia) (1.0.1)\n",
      "Requirement already satisfied: six>=1.5 in c:\\users\\khoda\\appdata\\roaming\\python\\python312\\site-packages (from python-dateutil>=2.7->matplotlib->scia) (1.17.0)\n"
     ]
    }
   ],
   "source": [
    "!pip install scia"
   ]
  }
 ],
 "metadata": {
  "kernelspec": {
   "display_name": "Python 3",
   "language": "python",
   "name": "python3"
  },
  "language_info": {
   "codemirror_mode": {
    "name": "ipython",
    "version": 3
   },
   "file_extension": ".py",
   "mimetype": "text/x-python",
   "name": "python",
   "nbconvert_exporter": "python",
   "pygments_lexer": "ipython3",
   "version": "3.12.8"
  },
  "widgets": {
   "application/vnd.jupyter.widget-state+json": {
    "state": {},
    "version_major": 2,
    "version_minor": 0
   }
  }
 },
 "nbformat": 4,
 "nbformat_minor": 4
}